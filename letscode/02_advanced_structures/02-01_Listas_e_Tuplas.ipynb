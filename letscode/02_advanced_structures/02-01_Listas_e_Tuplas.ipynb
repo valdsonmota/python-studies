{
 "cells": [
  {
   "cell_type": "markdown",
   "id": "8ff64075",
   "metadata": {},
   "source": [
    "# Listas e Tuplas"
   ]
  },
  {
   "cell_type": "code",
   "execution_count": 1,
   "id": "209e7446",
   "metadata": {},
   "outputs": [
    {
     "name": "stdout",
     "output_type": "stream",
     "text": [
      "['brasil', 'argentina', 'china', 'canadá', 'japão']\n",
      "Tamanho da lista: 5\n",
      "País: japão\n",
      "País: japão\n"
     ]
    }
   ],
   "source": [
    "nomes_paises = ['brasil', 'argentina', 'china', 'canadá', 'japão']\n",
    "print(nomes_paises)\n",
    "print('Tamanho da lista:', len(nomes_paises))\n",
    "print('País:', nomes_paises[4])\n",
    "print('País:', nomes_paises[-1])"
   ]
  },
  {
   "cell_type": "code",
   "execution_count": 2,
   "id": "bf128111",
   "metadata": {},
   "outputs": [
    {
     "name": "stdout",
     "output_type": "stream",
     "text": [
      "País: colômbia\n",
      "['brasil', 'argentina', 'china', 'canadá', 'colômbia']\n",
      "['argentina', 'china']\n",
      "['argentina', 'china', 'canadá']\n",
      "['china', 'canadá', 'colômbia']\n",
      "['brasil', 'argentina', 'china']\n",
      "['brasil', 'argentina', 'china', 'canadá', 'colômbia']\n",
      "['brasil', 'china', 'colômbia']\n",
      "['colômbia', 'canadá', 'china', 'argentina', 'brasil']\n",
      "True\n",
      "False\n"
     ]
    }
   ],
   "source": [
    "nomes_paises[4] = 'colômbia'\n",
    "print('País:', nomes_paises[4])\n",
    "print(nomes_paises)\n",
    "print(nomes_paises[1:3])\n",
    "print(nomes_paises[1:-1])\n",
    "print(nomes_paises[2:])\n",
    "print(nomes_paises[:3])\n",
    "print(nomes_paises[:])\n",
    "print(nomes_paises[::2])\n",
    "print(nomes_paises[::-1])\n",
    "print(\"brasil\" in nomes_paises)\n",
    "print(\"canadá\" not in nomes_paises)"
   ]
  },
  {
   "cell_type": "code",
   "execution_count": 3,
   "id": "433848b8",
   "metadata": {},
   "outputs": [
    {
     "name": "stdout",
     "output_type": "stream",
     "text": [
      "['brasilia', 'buenos aires', 'pequim', 'bogotá']\n"
     ]
    }
   ],
   "source": [
    "lista_capitais = []\n",
    "lista_capitais.append('brasilia')\n",
    "lista_capitais.append('buenos aires')\n",
    "lista_capitais.append('pequim')\n",
    "lista_capitais.append('bogotá')\n",
    "print(lista_capitais)"
   ]
  },
  {
   "cell_type": "code",
   "execution_count": 4,
   "id": "b6a2762f",
   "metadata": {},
   "outputs": [
    {
     "name": "stdout",
     "output_type": "stream",
     "text": [
      "['brasilia', 'buenos aires', 'paris', 'pequim', 'bogotá']\n"
     ]
    }
   ],
   "source": [
    "lista_capitais.insert(2, 'paris')\n",
    "print(lista_capitais)"
   ]
  },
  {
   "cell_type": "code",
   "execution_count": 5,
   "id": "9ef4737d",
   "metadata": {},
   "outputs": [
    {
     "name": "stdout",
     "output_type": "stream",
     "text": [
      "['brasilia', 'paris', 'pequim', 'bogotá']\n"
     ]
    }
   ],
   "source": [
    "lista_capitais.remove('buenos aires')\n",
    "print(lista_capitais)"
   ]
  },
  {
   "cell_type": "code",
   "execution_count": 6,
   "id": "489eac5d",
   "metadata": {},
   "outputs": [
    {
     "name": "stdout",
     "output_type": "stream",
     "text": [
      "['brasilia', 'paris', 'bogotá'] pequim\n"
     ]
    }
   ],
   "source": [
    "removido = lista_capitais.pop(2)\n",
    "print(lista_capitais, removido)"
   ]
  },
  {
   "cell_type": "code",
   "execution_count": 7,
   "id": "49edbc4b",
   "metadata": {},
   "outputs": [
    {
     "name": "stdout",
     "output_type": "stream",
     "text": [
      "('brasil', 'argentina', 'china', 'canadá', 'japão') <class 'tuple'>\n"
     ]
    }
   ],
   "source": [
    "paises = ('brasil', 'argentina', 'china', 'canadá', 'japão')\n",
    "print(paises, type(paises))"
   ]
  },
  {
   "cell_type": "code",
   "execution_count": 8,
   "id": "1f7d51ef",
   "metadata": {},
   "outputs": [
    {
     "name": "stdout",
     "output_type": "stream",
     "text": [
      "('são paulo',) <class 'tuple'>\n"
     ]
    },
    {
     "data": {
      "text/plain": [
       "'brasil'"
      ]
     },
     "execution_count": 8,
     "metadata": {},
     "output_type": "execute_result"
    }
   ],
   "source": [
    "nome_estado = 'são paulo',\n",
    "print(nome_estado, type(nome_estado))\n",
    "len(paises)\n",
    "paises[0]"
   ]
  },
  {
   "cell_type": "code",
   "execution_count": 9,
   "id": "5eb58584",
   "metadata": {},
   "outputs": [
    {
     "name": "stdout",
     "output_type": "stream",
     "text": [
      "brasil china japão\n"
     ]
    }
   ],
   "source": [
    "b, a, c, ca, j = paises\n",
    "print(b, c, j)"
   ]
  },
  {
   "cell_type": "code",
   "execution_count": 10,
   "id": "c0104bc7",
   "metadata": {},
   "outputs": [
    {
     "name": "stdout",
     "output_type": "stream",
     "text": [
      "brasil argentina china canadá japão\n"
     ]
    }
   ],
   "source": [
    "print(*paises)"
   ]
  },
  {
   "cell_type": "code",
   "execution_count": null,
   "id": "514a421e",
   "metadata": {},
   "outputs": [],
   "source": []
  }
 ],
 "metadata": {
  "kernelspec": {
   "display_name": "Python 3",
   "language": "python",
   "name": "python3"
  },
  "language_info": {
   "codemirror_mode": {
    "name": "ipython",
    "version": 3
   },
   "file_extension": ".py",
   "mimetype": "text/x-python",
   "name": "python",
   "nbconvert_exporter": "python",
   "pygments_lexer": "ipython3",
   "version": "3.8.8"
  }
 },
 "nbformat": 4,
 "nbformat_minor": 5
}
