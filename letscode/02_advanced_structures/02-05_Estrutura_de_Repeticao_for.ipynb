{
 "cells": [
  {
   "cell_type": "markdown",
   "id": "6d508c1d",
   "metadata": {},
   "source": [
    "# Estrutura de Repetição For"
   ]
  },
  {
   "cell_type": "code",
   "execution_count": 1,
   "id": "f509b122",
   "metadata": {},
   "outputs": [
    {
     "name": "stdout",
     "output_type": "stream",
     "text": [
      "Maceió\n",
      "Brisbane\n",
      "Vancouver\n",
      "New York\n"
     ]
    }
   ],
   "source": [
    "nomes_cidades = ['Maceió', 'Brisbane', 'Vancouver', 'New York']\n",
    "for cidade in nomes_cidades:\n",
    "    print(cidade)"
   ]
  },
  {
   "cell_type": "code",
   "execution_count": 2,
   "id": "235f1463",
   "metadata": {},
   "outputs": [
    {
     "name": "stdout",
     "output_type": "stream",
     "text": [
      "Maceió\n",
      "Brisbane\n",
      "Vancouver\n",
      "New York\n"
     ]
    }
   ],
   "source": [
    "nomes_cidades = 'Maceió', 'Brisbane', 'Vancouver', 'New York'\n",
    "for cidade in nomes_cidades:\n",
    "    print(cidade)"
   ]
  },
  {
   "cell_type": "code",
   "execution_count": 3,
   "id": "cfac614a",
   "metadata": {},
   "outputs": [
    {
     "name": "stdout",
     "output_type": "stream",
     "text": [
      "nome: Maceió\n",
      "estado: Alagoas\n",
      "populacao_milhoes: 1.5\n"
     ]
    }
   ],
   "source": [
    "dados_cidade = {\n",
    "    'nome': 'Maceió',\n",
    "    'estado': 'Alagoas',\n",
    "    'populacao_milhoes': 1.5\n",
    "}\n",
    "for chave in dados_cidade:\n",
    "    print(f'{chave}: {dados_cidade[chave]}')"
   ]
  },
  {
   "cell_type": "code",
   "execution_count": 4,
   "id": "b90ab39b",
   "metadata": {},
   "outputs": [
    {
     "name": "stdout",
     "output_type": "stream",
     "text": [
      "['Maceió', 'Brisbane', 'Vancouver', 'New York']\n"
     ]
    }
   ],
   "source": [
    "nomes_cidades = ['Maceió', 'Brisbane', 'Vancouver', 'New York']\n",
    "for nome in nomes_cidades:\n",
    "    nome = 'Rio de Janeiro'\n",
    "print(nomes_cidades)"
   ]
  },
  {
   "cell_type": "code",
   "execution_count": 5,
   "id": "9a7662d5",
   "metadata": {},
   "outputs": [
    {
     "name": "stdout",
     "output_type": "stream",
     "text": [
      "['Garanhuns', 'Garanhuns', 'Garanhuns', 'Garanhuns']\n"
     ]
    }
   ],
   "source": [
    "for posicao in range(len(nomes_cidades)):\n",
    "    nomes_cidades[posicao] = 'Garanhuns'\n",
    "print(nomes_cidades)"
   ]
  },
  {
   "cell_type": "code",
   "execution_count": 6,
   "id": "da5b5fff",
   "metadata": {},
   "outputs": [
    {
     "name": "stdout",
     "output_type": "stream",
     "text": [
      "[0, 1, 2, 3, 4, 5, 6, 7, 8, 9]\n",
      "[2, 3, 4, 5, 6, 7, 8, 9]\n",
      "[2, 4, 6, 8]\n"
     ]
    }
   ],
   "source": [
    "print(list(range(10)))\n",
    "print(list(range(2, 10)))\n",
    "print(list(range(2, 10, 2)))"
   ]
  }
 ],
 "metadata": {
  "kernelspec": {
   "display_name": "Python 3",
   "language": "python",
   "name": "python3"
  },
  "language_info": {
   "codemirror_mode": {
    "name": "ipython",
    "version": 3
   },
   "file_extension": ".py",
   "mimetype": "text/x-python",
   "name": "python",
   "nbconvert_exporter": "python",
   "pygments_lexer": "ipython3",
   "version": "3.8.8"
  }
 },
 "nbformat": 4,
 "nbformat_minor": 5
}
