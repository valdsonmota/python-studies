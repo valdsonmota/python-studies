{
 "cells": [
  {
   "cell_type": "markdown",
   "id": "b16be886",
   "metadata": {},
   "source": [
    "# Strings II"
   ]
  },
  {
   "cell_type": "code",
   "execution_count": 1,
   "id": "7fde09bc",
   "metadata": {},
   "outputs": [
    {
     "name": "stdout",
     "output_type": "stream",
     "text": [
      "Olá, Valdson\n"
     ]
    }
   ],
   "source": [
    "cumprimento = 'Olá, '\n",
    "nome = 'Valdson'\n",
    "print(cumprimento + nome)"
   ]
  },
  {
   "cell_type": "code",
   "execution_count": 2,
   "id": "6cbdbf78",
   "metadata": {},
   "outputs": [
    {
     "name": "stdout",
     "output_type": "stream",
     "text": [
      "ValdsonValdsonValdsonValdsonValdson\n"
     ]
    }
   ],
   "source": [
    "print(nome * 5)"
   ]
  },
  {
   "cell_type": "code",
   "execution_count": 10,
   "id": "3352276b",
   "metadata": {},
   "outputs": [
    {
     "name": "stdout",
     "output_type": "stream",
     "text": [
      "Valdson Mota tem 40 anos e 0 filhos.\n"
     ]
    }
   ],
   "source": [
    "nome = 'Valdson Mota'\n",
    "idade = 40\n",
    "n_filhos = 0\n",
    "print(nome + ' tem ' + str(idade) + ' anos e ' + str(n_filhos) + ' filhos.')"
   ]
  },
  {
   "cell_type": "code",
   "execution_count": 11,
   "id": "670098b6",
   "metadata": {},
   "outputs": [
    {
     "name": "stdout",
     "output_type": "stream",
     "text": [
      "Valdson Mota tem 40 anos e 0 filhos.\n"
     ]
    }
   ],
   "source": [
    "print('{} tem {} anos e {} filhos.'.format(nome, idade, n_filhos))"
   ]
  },
  {
   "cell_type": "code",
   "execution_count": 12,
   "id": "d1fa9425",
   "metadata": {},
   "outputs": [
    {
     "name": "stdout",
     "output_type": "stream",
     "text": [
      "O preço da gasolina hoje em Maceió-AL está de R$ 7.49\n"
     ]
    }
   ],
   "source": [
    "preco_gasolina = 7.488\n",
    "print('O preço da gasolina hoje em Maceió-AL está de R$ {:.2f}'.format(preco_gasolina))"
   ]
  },
  {
   "cell_type": "code",
   "execution_count": 13,
   "id": "e862dcb9",
   "metadata": {},
   "outputs": [
    {
     "name": "stdout",
     "output_type": "stream",
     "text": [
      "Valdson Mota tem 40 anos e 0 filhos.\n"
     ]
    }
   ],
   "source": [
    "print(f'{nome} tem {idade} anos e {n_filhos} filhos.')"
   ]
  }
 ],
 "metadata": {
  "kernelspec": {
   "display_name": "Python 3",
   "language": "python",
   "name": "python3"
  },
  "language_info": {
   "codemirror_mode": {
    "name": "ipython",
    "version": 3
   },
   "file_extension": ".py",
   "mimetype": "text/x-python",
   "name": "python",
   "nbconvert_exporter": "python",
   "pygments_lexer": "ipython3",
   "version": "3.8.8"
  }
 },
 "nbformat": 4,
 "nbformat_minor": 5
}
