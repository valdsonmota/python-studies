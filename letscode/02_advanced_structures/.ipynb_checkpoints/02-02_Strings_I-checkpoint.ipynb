{
 "cells": [
  {
   "cell_type": "markdown",
   "id": "f9d95951",
   "metadata": {},
   "source": [
    "# Strings I"
   ]
  },
  {
   "cell_type": "code",
   "execution_count": 1,
   "id": "03bef313",
   "metadata": {},
   "outputs": [
    {
     "name": "stdout",
     "output_type": "stream",
     "text": [
      "Google\n",
      "Google\n"
     ]
    }
   ],
   "source": [
    "empresa = 'Google'\n",
    "print(empresa)\n",
    "\n",
    "empresa = \"Google\"\n",
    "print(empresa)"
   ]
  },
  {
   "cell_type": "code",
   "execution_count": 2,
   "id": "e10c9028",
   "metadata": {},
   "outputs": [
    {
     "ename": "SyntaxError",
     "evalue": "invalid syntax (<ipython-input-2-43c6deb3f727>, line 1)",
     "output_type": "error",
     "traceback": [
      "\u001b[1;36m  File \u001b[1;32m\"<ipython-input-2-43c6deb3f727>\"\u001b[1;36m, line \u001b[1;32m1\u001b[0m\n\u001b[1;33m    empresa = 'Let's Code'\u001b[0m\n\u001b[1;37m                   ^\u001b[0m\n\u001b[1;31mSyntaxError\u001b[0m\u001b[1;31m:\u001b[0m invalid syntax\n"
     ]
    }
   ],
   "source": [
    "empresa = 'Let's Code'"
   ]
  },
  {
   "cell_type": "code",
   "execution_count": 3,
   "id": "aa20d6b2",
   "metadata": {},
   "outputs": [
    {
     "name": "stdout",
     "output_type": "stream",
     "text": [
      "Let's Code\n"
     ]
    }
   ],
   "source": [
    "empresa = \"Let's Code\"\n",
    "print(empresa)"
   ]
  },
  {
   "cell_type": "code",
   "execution_count": 4,
   "id": "bc8d4798",
   "metadata": {},
   "outputs": [
    {
     "name": "stdout",
     "output_type": "stream",
     "text": [
      "O professor Pietro da Let's Code disse: \"Hoje pago uma pizza\"\n"
     ]
    }
   ],
   "source": [
    "frase = \"O professor Pietro da Let's Code disse: \\\"Hoje pago uma pizza\\\"\"\n",
    "print(frase)"
   ]
  },
  {
   "cell_type": "code",
   "execution_count": 5,
   "id": "0e1de2d8",
   "metadata": {},
   "outputs": [
    {
     "name": "stdout",
     "output_type": "stream",
     "text": [
      "G\n",
      "Goo\n"
     ]
    }
   ],
   "source": [
    "empresa = 'Google'\n",
    "print(empresa[0])\n",
    "print(empresa[:3])"
   ]
  },
  {
   "cell_type": "code",
   "execution_count": 6,
   "id": "fcb34781",
   "metadata": {},
   "outputs": [],
   "source": [
    "nomes_cidades = 'são paulo, belo horizonte, rio de janeiro, brasília'\n",
    "nomes_cidades = nomes_cidades.split(', ')"
   ]
  },
  {
   "cell_type": "code",
   "execution_count": 7,
   "id": "9d3aec19",
   "metadata": {},
   "outputs": [
    {
     "name": "stdout",
     "output_type": "stream",
     "text": [
      "MENU PRINCIPAL\n"
     ]
    }
   ],
   "source": [
    "cabecalho = '          MENU PRINCIPAL          '\n",
    "print(cabecalho.strip())"
   ]
  },
  {
   "cell_type": "code",
   "execution_count": 8,
   "id": "4391498f",
   "metadata": {},
   "outputs": [],
   "source": [
    "nome_cidade = 'rIo DE jaNeirO'"
   ]
  },
  {
   "cell_type": "code",
   "execution_count": 9,
   "id": "e1c37f89",
   "metadata": {},
   "outputs": [
    {
     "name": "stdout",
     "output_type": "stream",
     "text": [
      "Rio De Janeiro\n",
      "Rio de janeiro\n",
      "rio de janeiro\n",
      "RIO DE JANEIRO\n"
     ]
    }
   ],
   "source": [
    "print(nome_cidade.title())\n",
    "print(nome_cidade.capitalize())\n",
    "print(nome_cidade.lower())\n",
    "print(nome_cidade.upper())"
   ]
  },
  {
   "cell_type": "code",
   "execution_count": null,
   "id": "53feff10",
   "metadata": {},
   "outputs": [],
   "source": [
    "nome_cidade = input('Que cidade do Brasil é conhecida como cidade maravilhora?')\n",
    "nome_cidade = nome_cidade.strip()\n",
    "while nome_cidade.lower() != 'rio de janeiro':\n",
    "    print('Tente novamente!')\n",
    "    nome_cidade = input('Que cidade do Brasil é conhecida como cidade maravilhora?')\n",
    "    print('Resposta correta!')"
   ]
  },
  {
   "cell_type": "code",
   "execution_count": null,
   "id": "7f1956a6",
   "metadata": {},
   "outputs": [],
   "source": [
    "mensagem = 'Você viu o que o Pietro disse na sala de aula ontem?'\n",
    "fui_citado = 'Pietro' in mensagem\n",
    "print(fui_citado)"
   ]
  }
 ],
 "metadata": {
  "kernelspec": {
   "display_name": "Python 3",
   "language": "python",
   "name": "python3"
  },
  "language_info": {
   "codemirror_mode": {
    "name": "ipython",
    "version": 3
   },
   "file_extension": ".py",
   "mimetype": "text/x-python",
   "name": "python",
   "nbconvert_exporter": "python",
   "pygments_lexer": "ipython3",
   "version": "3.8.8"
  }
 },
 "nbformat": 4,
 "nbformat_minor": 5
}
