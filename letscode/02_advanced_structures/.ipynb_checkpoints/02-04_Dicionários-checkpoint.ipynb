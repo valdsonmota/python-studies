{
 "cells": [
  {
   "cell_type": "markdown",
   "id": "da1ab8f6",
   "metadata": {},
   "source": [
    "# Dicionários"
   ]
  },
  {
   "cell_type": "code",
   "execution_count": 1,
   "id": "7f25d207",
   "metadata": {},
   "outputs": [],
   "source": [
    "dados_cidade = {\n",
    "    'nome': 'Maceió',\n",
    "    'estado': 'Alagoas',\n",
    "    'area_km2': 510,\n",
    "    'populacao_milhoes': 1025,\n",
    "}"
   ]
  },
  {
   "cell_type": "code",
   "execution_count": 2,
   "id": "b9e8f308",
   "metadata": {},
   "outputs": [
    {
     "name": "stdout",
     "output_type": "stream",
     "text": [
      "<class 'dict'>\n"
     ]
    }
   ],
   "source": [
    "print(type(dados_cidade))"
   ]
  },
  {
   "cell_type": "code",
   "execution_count": 3,
   "id": "f653175a",
   "metadata": {},
   "outputs": [
    {
     "name": "stdout",
     "output_type": "stream",
     "text": [
      "{'nome': 'Maceió', 'estado': 'Alagoas', 'area_km2': 510, 'populacao_milhoes': 1025}\n"
     ]
    }
   ],
   "source": [
    "print(dados_cidade)"
   ]
  },
  {
   "cell_type": "code",
   "execution_count": 4,
   "id": "f53bc783",
   "metadata": {},
   "outputs": [
    {
     "name": "stdout",
     "output_type": "stream",
     "text": [
      "{'nome': 'Maceió', 'estado': 'Alagoas', 'area_km2': 510, 'populacao_milhoes': 1025, 'pais': 'Brasil'}\n"
     ]
    }
   ],
   "source": [
    "dados_cidade['pais'] = 'Brasil'\n",
    "print(dados_cidade)"
   ]
  },
  {
   "cell_type": "code",
   "execution_count": 5,
   "id": "9e4a3984",
   "metadata": {},
   "outputs": [
    {
     "name": "stdout",
     "output_type": "stream",
     "text": [
      "Maceió\n"
     ]
    }
   ],
   "source": [
    "print(dados_cidade['nome'])"
   ]
  },
  {
   "cell_type": "code",
   "execution_count": 6,
   "id": "4df1cba1",
   "metadata": {},
   "outputs": [
    {
     "name": "stdout",
     "output_type": "stream",
     "text": [
      "{'nome': 'Maceió', 'estado': 'Alagoas', 'area_km2': 509, 'populacao_milhoes': 1025, 'pais': 'Brasil'}\n"
     ]
    }
   ],
   "source": [
    "dados_cidade['area_km2'] = 509\n",
    "print(dados_cidade)"
   ]
  },
  {
   "cell_type": "code",
   "execution_count": 7,
   "id": "9a009c23",
   "metadata": {},
   "outputs": [
    {
     "name": "stdout",
     "output_type": "stream",
     "text": [
      "{'nome': 'Garanhuns', 'estado': 'Alagoas', 'area_km2': 509, 'populacao_milhoes': 1025, 'pais': 'Brasil'}\n",
      "{'nome': 'Garanhuns', 'estado': 'Alagoas', 'area_km2': 509, 'populacao_milhoes': 1025, 'pais': 'Brasil'}\n"
     ]
    }
   ],
   "source": [
    "dados_cidade_2 = dados_cidade\n",
    "dados_cidade_2['nome'] = 'Garanhuns'\n",
    "print(dados_cidade_2)\n",
    "print(dados_cidade)"
   ]
  },
  {
   "cell_type": "code",
   "execution_count": 8,
   "id": "285b0863",
   "metadata": {},
   "outputs": [
    {
     "name": "stdout",
     "output_type": "stream",
     "text": [
      "{'nome': 'Garanhuns', 'estado': 'Alagoas', 'area_km2': 509, 'populacao_milhoes': 1025, 'pais': 'Brasil'}\n"
     ]
    }
   ],
   "source": [
    "dados_cidade_3 = dados_cidade.copy()\n",
    "dados_cidade_3['estado'] = 'Pernambuco'\n",
    "print(dados_cidade)"
   ]
  },
  {
   "cell_type": "code",
   "execution_count": 9,
   "id": "c862086f",
   "metadata": {},
   "outputs": [],
   "source": [
    "novos_dados = {\n",
    "    'populacao_milhoes': 15,\n",
    "    'fundacao': '25/01/1554'\n",
    "}"
   ]
  },
  {
   "cell_type": "code",
   "execution_count": 10,
   "id": "0574a193",
   "metadata": {},
   "outputs": [
    {
     "name": "stdout",
     "output_type": "stream",
     "text": [
      "{'nome': 'Garanhuns', 'estado': 'Alagoas', 'area_km2': 509, 'populacao_milhoes': 15, 'pais': 'Brasil', 'fundacao': '25/01/1554'}\n"
     ]
    }
   ],
   "source": [
    "dados_cidade.update(novos_dados)\n",
    "print(dados_cidade)"
   ]
  },
  {
   "cell_type": "code",
   "execution_count": 11,
   "id": "57a4c43f",
   "metadata": {},
   "outputs": [
    {
     "name": "stdout",
     "output_type": "stream",
     "text": [
      "None\n"
     ]
    }
   ],
   "source": [
    "print(dados_cidade.get('prefeito'))"
   ]
  },
  {
   "cell_type": "code",
   "execution_count": 12,
   "id": "a91fde76",
   "metadata": {},
   "outputs": [
    {
     "name": "stdout",
     "output_type": "stream",
     "text": [
      "dict_keys(['nome', 'estado', 'area_km2', 'populacao_milhoes', 'pais', 'fundacao'])\n",
      "\n",
      "dict_values(['Garanhuns', 'Alagoas', 509, 15, 'Brasil', '25/01/1554'])\n",
      "\n",
      "dict_items([('nome', 'Garanhuns'), ('estado', 'Alagoas'), ('area_km2', 509), ('populacao_milhoes', 15), ('pais', 'Brasil'), ('fundacao', '25/01/1554')])\n",
      "\n"
     ]
    }
   ],
   "source": [
    "#Retorna uma lista de chaves de um dicionário\n",
    "print(dados_cidade.keys())\n",
    "print('')\n",
    "#Retorna uma lista de valores de um dicionário\n",
    "print(dados_cidade.values())\n",
    "print('')\n",
    "#Retorna uma lista de tuplas (chave, valor) de um dicionário\n",
    "print(dados_cidade.items())\n",
    "print('')"
   ]
  }
 ],
 "metadata": {
  "kernelspec": {
   "display_name": "Python 3",
   "language": "python",
   "name": "python3"
  },
  "language_info": {
   "codemirror_mode": {
    "name": "ipython",
    "version": 3
   },
   "file_extension": ".py",
   "mimetype": "text/x-python",
   "name": "python",
   "nbconvert_exporter": "python",
   "pygments_lexer": "ipython3",
   "version": "3.8.8"
  }
 },
 "nbformat": 4,
 "nbformat_minor": 5
}
