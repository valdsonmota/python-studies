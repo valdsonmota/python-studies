{
 "cells": [
  {
   "cell_type": "markdown",
   "id": "414765c9",
   "metadata": {},
   "source": [
    "# APIs"
   ]
  },
  {
   "cell_type": "code",
   "execution_count": 1,
   "id": "2e61edd9",
   "metadata": {},
   "outputs": [
    {
     "name": "stdout",
     "output_type": "stream",
     "text": [
      "Requirement already satisfied: requests in c:\\users\\valdson\\anaconda3\\lib\\site-packages (2.25.1)\n",
      "Requirement already satisfied: idna<3,>=2.5 in c:\\users\\valdson\\anaconda3\\lib\\site-packages (from requests) (2.10)\n",
      "Requirement already satisfied: chardet<5,>=3.0.2 in c:\\users\\valdson\\anaconda3\\lib\\site-packages (from requests) (4.0.0)\n",
      "Requirement already satisfied: certifi>=2017.4.17 in c:\\users\\valdson\\anaconda3\\lib\\site-packages (from requests) (2020.12.5)\n",
      "Requirement already satisfied: urllib3<1.27,>=1.21.1 in c:\\users\\valdson\\anaconda3\\lib\\site-packages (from requests) (1.26.4)\n"
     ]
    }
   ],
   "source": [
    "!pip install requests"
   ]
  },
  {
   "cell_type": "code",
   "execution_count": 2,
   "id": "93b548f8",
   "metadata": {},
   "outputs": [],
   "source": [
    "import requests"
   ]
  },
  {
   "cell_type": "code",
   "execution_count": 3,
   "id": "868fd29c",
   "metadata": {},
   "outputs": [
    {
     "name": "stdout",
     "output_type": "stream",
     "text": [
      "200\n"
     ]
    }
   ],
   "source": [
    "url = 'https://api.exchangerate-api.com/v6/latest'\n",
    "\n",
    "req = requests.get(url)\n",
    "\n",
    "print(req.status_code)"
   ]
  },
  {
   "cell_type": "code",
   "execution_count": 4,
   "id": "03b8b698",
   "metadata": {},
   "outputs": [
    {
     "name": "stdout",
     "output_type": "stream",
     "text": [
      "{'result': 'success', 'provider': 'https://www.exchangerate-api.com', 'documentation': 'https://www.exchangerate-api.com/docs/free', 'terms_of_use': 'https://www.exchangerate-api.com/terms', 'time_last_update_unix': 1656720152, 'time_last_update_utc': 'Sat, 02 Jul 2022 00:02:32 +0000', 'time_next_update_unix': 1656807582, 'time_next_update_utc': 'Sun, 03 Jul 2022 00:19:42 +0000', 'time_eol_unix': 0, 'base_code': 'USD', 'rates': {'USD': 1, 'AED': 3.67, 'AFN': 88.56, 'ALL': 113.39, 'AMD': 407.05, 'ANG': 1.79, 'AOA': 430.48, 'ARS': 125.24, 'AUD': 1.47, 'AWG': 1.79, 'AZN': 1.69, 'BAM': 1.88, 'BBD': 2, 'BDT': 92.66, 'BGN': 1.88, 'BHD': 0.376, 'BIF': 2033.13, 'BMD': 1, 'BND': 1.39, 'BOB': 6.87, 'BRL': 5.26, 'BSD': 1, 'BTN': 78.96, 'BWP': 12.48, 'BYN': 2.76, 'BZD': 2, 'CAD': 1.29, 'CDF': 1997.5, 'CHF': 0.96, 'CLP': 922.21, 'CNY': 6.7, 'COP': 4196.4, 'CRC': 689.93, 'CUP': 24, 'CVE': 105.78, 'CZK': 23.7, 'DJF': 177.72, 'DKK': 7.16, 'DOP': 54.59, 'DZD': 146.48, 'EGP': 18.78, 'ERN': 15, 'ETB': 51.95, 'EUR': 0.959, 'FJD': 2.21, 'FKP': 0.828, 'FOK': 7.16, 'GBP': 0.828, 'GEL': 2.91, 'GGP': 0.828, 'GHS': 8.13, 'GIP': 0.828, 'GMD': 54.17, 'GNF': 8685.88, 'GTQ': 7.74, 'GYD': 209.02, 'HKD': 7.85, 'HNL': 24.63, 'HRK': 7.23, 'HTG': 117.14, 'HUF': 382.07, 'IDR': 14963.45, 'ILS': 3.52, 'IMP': 0.828, 'INR': 78.96, 'IQD': 1458.09, 'IRR': 42021.86, 'ISK': 132.74, 'JEP': 0.828, 'JMD': 150.64, 'JOD': 0.709, 'JPY': 135.37, 'KES': 118.13, 'KGS': 79.97, 'KHR': 4065.05, 'KID': 1.47, 'KMF': 471.95, 'KRW': 1296.05, 'KWD': 0.3, 'KYD': 0.833, 'KZT': 465.84, 'LAK': 17010.7, 'LBP': 1507.5, 'LKR': 354.69, 'LRD': 152.56, 'LSL': 16.35, 'LYD': 4.8, 'MAD': 9.8, 'MDL': 19.15, 'MGA': 4074.69, 'MKD': 59.19, 'MMK': 1833.17, 'MNT': 3142.88, 'MOP': 8.09, 'MRU': 36.27, 'MUR': 44.93, 'MVR': 15.44, 'MWK': 1034.71, 'MXN': 20.27, 'MYR': 4.4, 'MZN': 64.38, 'NAD': 16.35, 'NGN': 414.36, 'NIO': 35.94, 'NOK': 9.94, 'NPR': 126.33, 'NZD': 1.61, 'OMR': 0.384, 'PAB': 1, 'PEN': 3.81, 'PGK': 3.57, 'PHP': 55.09, 'PKR': 204.26, 'PLN': 4.49, 'PYG': 6729.49, 'QAR': 3.64, 'RON': 4.73, 'RSD': 112.56, 'RUB': 54.24, 'RWF': 1058.53, 'SAR': 3.75, 'SBD': 8.04, 'SCR': 12.89, 'SDG': 467.74, 'SEK': 10.31, 'SGD': 1.39, 'SHP': 0.828, 'SLL': 13157.3, 'SOS': 578, 'SRD': 22.06, 'SSP': 499.39, 'STN': 23.5, 'SYP': 2488.96, 'SZL': 16.35, 'THB': 35.62, 'TJS': 11.16, 'TMT': 3.5, 'TND': 2.83, 'TOP': 2.34, 'TRY': 16.76, 'TTD': 6.77, 'TVD': 1.47, 'TWD': 29.71, 'TZS': 2330.71, 'UAH': 29.9, 'UGX': 3754.6, 'UYU': 39.52, 'UZS': 10800.27, 'VES': 5.54, 'VND': 23303.58, 'VUV': 117.41, 'WST': 2.71, 'XAF': 629.26, 'XCD': 2.7, 'XDR': 0.75, 'XOF': 629.26, 'XPF': 114.48, 'YER': 250.48, 'ZAR': 16.35, 'ZMW': 16.66, 'ZWL': 362.65}}\n"
     ]
    }
   ],
   "source": [
    "dados = req.json()\n",
    "\n",
    "print(dados)"
   ]
  },
  {
   "cell_type": "code",
   "execution_count": 5,
   "id": "b4186c79",
   "metadata": {},
   "outputs": [
    {
     "name": "stdout",
     "output_type": "stream",
     "text": [
      "Informe o valor em R$ a ser convertido\n",
      "1000\n",
      "R$1000.0 em dólar valem US$ 190.11\n"
     ]
    }
   ],
   "source": [
    "valor_reais = float(input('Informe o valor em R$ a ser convertido\\n'))\n",
    "cotacao = dados['rates']['BRL']\n",
    "print(f'R${valor_reais} em dólar valem US$ {(valor_reais / cotacao):.2f}')"
   ]
  },
  {
   "cell_type": "code",
   "execution_count": null,
   "id": "c4d33561",
   "metadata": {},
   "outputs": [],
   "source": []
  }
 ],
 "metadata": {
  "kernelspec": {
   "display_name": "Python 3",
   "language": "python",
   "name": "python3"
  },
  "language_info": {
   "codemirror_mode": {
    "name": "ipython",
    "version": 3
   },
   "file_extension": ".py",
   "mimetype": "text/x-python",
   "name": "python",
   "nbconvert_exporter": "python",
   "pygments_lexer": "ipython3",
   "version": "3.8.8"
  }
 },
 "nbformat": 4,
 "nbformat_minor": 5
}
